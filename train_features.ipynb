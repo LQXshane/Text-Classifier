{
 "cells": [
  {
   "cell_type": "code",
   "execution_count": 1,
   "metadata": {
    "collapsed": false
   },
   "outputs": [],
   "source": [
    "import pandas as pd\n",
    "import sys\n",
    "from sklearn import metrics\n",
    "from sklearn.model_selection import train_test_split, KFold, GridSearchCV, train_test_split\n",
    "import numpy as np\n",
    "from IPython import embed\n",
    "from sklearn import metrics, svm\n",
    "from sklearn.pipeline import Pipeline\n",
    "from sklearn.feature_selection import SelectFpr, SelectKBest, SelectFromModel,chi2, f_classif\n",
    "from sklearn.feature_extraction.text import CountVectorizer, TfidfTransformer, TfidfVectorizer\n",
    "from sklearn.ensemble import RandomForestClassifier,ExtraTreesClassifier\n",
    "from time import time\n",
    "import matplotlib.pyplot as plt\n",
    "import seaborn as sns\n",
    "from imblearn.over_sampling import RandomOverSampler, SMOTE\n",
    "%matplotlib inline\n",
    "sns.set(color_codes=True)"
   ]
  },
  {
   "cell_type": "code",
   "execution_count": 2,
   "metadata": {
    "collapsed": false
   },
   "outputs": [
    {
     "name": "stdout",
     "output_type": "stream",
     "text": [
      "                                            contents  label  Num of Candidate  \\\n",
      "0         candic bergen detail date trump short even      0                 1   \n",
      "1  roundup cruz defeat trump clinton narrowli def...      0                 4   \n",
      "2                                 donald trump trash      0                 1   \n",
      "3  trump audit ir everi year candid probabl never...      0                 1   \n",
      "4                    trump landslid nite ll c cahang      0                 1   \n",
      "\n",
      "   Sarcasm_s1  Sarcasm_s2  Sarcasm_s3  Sarcasm_s4  Sarcasm_s5  Sarcasm_s6  \\\n",
      "0           1           0           0           0           0           0   \n",
      "1           0           0           1           0           0           0   \n",
      "2           0           0           0           0           0           0   \n",
      "3           0           0           1           0           0           0   \n",
      "4           0           0           0           0           0           0   \n",
      "\n",
      "   Sarcasm_s7  Number of Sarc  Short and link  \n",
      "0           0               1               0  \n",
      "1           0               1               1  \n",
      "2           0               0               0  \n",
      "3           0               1               0  \n",
      "4           0               0               0  \n",
      "Total # of samples:  393\n"
     ]
    }
   ],
   "source": [
    "file = \"../categories/no_GT/border/trump/trump_cleaned.csv\"\n",
    "sar = \"../../Sarcasm/sarcasm_cleaned.csv\"\n",
    "raw = pd.read_csv(file).drop_duplicates()\n",
    "\n",
    "sarcasm = pd.read_csv(sar)\n",
    "sarcasm = sarcasm.drop_duplicates()\n",
    "sarcasm.columns = ['contents',\n",
    "                 'Bernie',\n",
    "                 'Trump',\n",
    "                 'Clinton',\n",
    "                 'Cruz',\n",
    "                 'Num of Candidate',\n",
    "                 'Sarcasm_s1',\n",
    "                 'Sarcasm_s2',\n",
    "                 'Sarcasm_s3',\n",
    "                 'Sarcasm_s4',\n",
    "                 'Sarcasm_s5',\n",
    "                 'Sarcasm_s6',\n",
    "                 'Sarcasm_s7',\n",
    "                 'Number of Sarc',\n",
    "                 'Short and link']\n",
    "\n",
    "res = pd.merge(raw, sarcasm, how='left', on=['contents']).dropna()\n",
    "res = res.drop_duplicates()\n",
    "\n",
    "del res['Bernie'], res['Trump'], res['Clinton'], res['Cruz']\n",
    "\n",
    "del raw, sarcasm\n",
    "\n",
    "raw = res\n",
    "\n",
    "print raw.head()\n",
    "\n",
    "print 'Total # of samples: ', len(raw)\n"
   ]
  },
  {
   "cell_type": "code",
   "execution_count": 3,
   "metadata": {
    "collapsed": false
   },
   "outputs": [
    {
     "data": {
      "text/plain": [
       "['contents',\n",
       " 'label',\n",
       " 'Num of Candidate',\n",
       " 'Sarcasm_s1',\n",
       " 'Sarcasm_s2',\n",
       " 'Sarcasm_s3',\n",
       " 'Sarcasm_s4',\n",
       " 'Sarcasm_s5',\n",
       " 'Sarcasm_s6',\n",
       " 'Sarcasm_s7',\n",
       " 'Number of Sarc',\n",
       " 'Short and link']"
      ]
     },
     "execution_count": 3,
     "metadata": {},
     "output_type": "execute_result"
    }
   ],
   "source": [
    "raw.count()\n",
    "list(raw.columns)"
   ]
  },
  {
   "cell_type": "code",
   "execution_count": 4,
   "metadata": {
    "collapsed": false,
    "scrolled": false
   },
   "outputs": [
    {
     "data": {
      "image/png": "[encoded data removed]",
      "text/plain": [
       "<matplotlib.figure.Figure at 0x10c87d1d0>"
      ]
     },
     "metadata": {},
     "output_type": "display_data"
    },
    {
     "data": {
      "image/png": "[encoded data removed]",
      "text/plain": [
       "<matplotlib.figure.Figure at 0x1153a6a50>"
      ]
     },
     "metadata": {},
     "output_type": "display_data"
    },
    {
     "data": {
      "image/png": "[encoded data removed]",
      "text/plain": [
       "<matplotlib.figure.Figure at 0x1153a6850>"
      ]
     },
     "metadata": {},
     "output_type": "display_data"
    },
    {
     "data": {
      "image/png": "[encoded data removed]",
      "text/plain": [
       "<matplotlib.figure.Figure at 0x11577c9d0>"
      ]
     },
     "metadata": {},
     "output_type": "display_data"
    },
    {
     "data": {
      "image/png": "[encoded data removed]",
      "text/plain": [
       "<matplotlib.figure.Figure at 0x115c1e090>"
      ]
     },
     "metadata": {},
     "output_type": "display_data"
    },
    {
     "data": {
      "image/png": "[encoded data removed]",
      "text/plain": [
       "<matplotlib.figure.Figure at 0x115ebac10>"
      ]
     },
     "metadata": {},
     "output_type": "display_data"
    },
    {
     "data": {
      "image/png": "[encoded data removed]",
      "text/plain": [
       "<matplotlib.figure.Figure at 0x1162607d0>"
      ]
     },
     "metadata": {},
     "output_type": "display_data"
    },
    {
     "data": {
      "image/png": "[encoded data removed]",
      "text/plain": [
       "<matplotlib.figure.Figure at 0x116608390>"
      ]
     },
     "metadata": {},
     "output_type": "display_data"
    },
    {
     "data": {
      "image/png": "[encoded data removed]",
      "text/plain": [
       "<matplotlib.figure.Figure at 0x1169a1f10>"
      ]
     },
     "metadata": {},
     "output_type": "display_data"
    },
    {
     "data": {
      "image/png": "[encoded data removed]",
      "text/plain": [
       "<matplotlib.figure.Figure at 0x116d3fe10>"
      ]
     },
     "metadata": {},
     "output_type": "display_data"
    }
   ],
   "source": [
    "for i in range(2,len(raw.columns)):\n",
    "    plt.figure(i)\n",
    "    x1 = raw[raw['label']==1][raw.columns[i]].tolist()\n",
    "    x0 = raw[raw['label']==0][raw.columns[i]].tolist()\n",
    "#     sns.distplot(x0, rug=True, kde=False, bins=np.linspace(0,4), label='0')\n",
    "#     sns.distplot(x1, rug=True, kde=False, bins=np.linspace(0,4), label='1')\n",
    "    sns.color_palette('hls',8)\n",
    "    plt.hist(x0,stacked=True,bins=np.linspace(0,4), label='0')\n",
    "    plt.hist(x1,stacked=True,bins=np.linspace(0,4), label='1')\n",
    "    plt.xticks( range(len(set(x0))) )\n",
    "    plt.xlim(0, len(set(x0)))\n",
    "    plt.ylim(0,480)\n",
    "    plt.legend()\n",
    "    plt.title(raw.columns[i])"
   ]
  },
  {
   "cell_type": "code",
   "execution_count": 5,
   "metadata": {
    "collapsed": false
   },
   "outputs": [
    {
     "name": "stdout",
     "output_type": "stream",
     "text": [
      "Percentage of positive samples in all: 8.906  \n"
     ]
    }
   ],
   "source": [
    "print \"Percentage of positive samples in all: %0.3f  \"%(float(len(raw[raw['label']==1]))/len(raw) * 100)"
   ]
  },
  {
   "cell_type": "code",
   "execution_count": 6,
   "metadata": {
    "collapsed": true
   },
   "outputs": [],
   "source": [
    "X = raw[['contents',\n",
    "                'Num of Candidate',\n",
    "                 'Sarcasm_s1',\n",
    "                 'Sarcasm_s2',\n",
    "                 'Sarcasm_s3',\n",
    "                 'Sarcasm_s4',\n",
    "                 'Sarcasm_s5',\n",
    "                 'Sarcasm_s6',\n",
    "                 'Sarcasm_s7',\n",
    "                 'Number of Sarc',\n",
    "                 'Short and link']]\n",
    "\n",
    "y = np.array(raw['label'], dtype='int64')\n",
    "X_train, X_test, y_train, y_test = train_test_split(X, y, test_size=0.3, random_state=42)"
   ]
  },
  {
   "cell_type": "code",
   "execution_count": 7,
   "metadata": {
    "collapsed": true
   },
   "outputs": [],
   "source": [
    "feature_cols = ['Num of Candidate',\n",
    "                 'Sarcasm_s1',\n",
    "                 'Sarcasm_s2',\n",
    "                 'Sarcasm_s3',\n",
    "                 'Sarcasm_s4',\n",
    "                 'Sarcasm_s5',\n",
    "                 'Sarcasm_s6',\n",
    "                 'Sarcasm_s7',\n",
    "                 'Number of Sarc',\n",
    "                 'Short and link']"
   ]
  },
  {
   "cell_type": "code",
   "execution_count": 8,
   "metadata": {
    "collapsed": false
   },
   "outputs": [],
   "source": [
    "def textPreprocess(text, train=True):\n",
    "    global vectorizer, weighting\n",
    "    if train:\n",
    "        vectorizer = CountVectorizer(min_df=0.005, stop_words='english', ngram_range=(1,1))\n",
    "        weighting = TfidfTransformer(norm='l2', use_idf=True, smooth_idf=False, sublinear_tf=False)\n",
    "        text_token = weighting.fit_transform(vectorizer.fit_transform(text))\n",
    "\n",
    "    text_token = weighting.transform(vectorizer.transform(text))\n",
    "    return text_token, vectorizer, weighting"
   ]
  },
  {
   "cell_type": "code",
   "execution_count": 9,
   "metadata": {
    "collapsed": false
   },
   "outputs": [
    {
     "data": {
      "text/plain": [
       "(275, 296)"
      ]
     },
     "execution_count": 9,
     "metadata": {},
     "output_type": "execute_result"
    }
   ],
   "source": [
    "train_text, vectorizer, weighting = textPreprocess(X_train['contents'], train=True)\n",
    "\n",
    "train_text.todense().shape\n"
   ]
  },
  {
   "cell_type": "code",
   "execution_count": 10,
   "metadata": {
    "collapsed": false
   },
   "outputs": [
    {
     "data": {
      "text/plain": [
       "296"
      ]
     },
     "execution_count": 10,
     "metadata": {},
     "output_type": "execute_result"
    }
   ],
   "source": [
    "len(vectorizer.vocabulary_)"
   ]
  },
  {
   "cell_type": "code",
   "execution_count": 11,
   "metadata": {
    "collapsed": false
   },
   "outputs": [
    {
     "data": {
      "text/plain": [
       "Int64Index([109,  17, 352,  24, 126, 363, 175, 232, 193, 238,\n",
       "            ...\n",
       "            214, 121, 392,  20, 188,  71, 106, 270, 348, 102],\n",
       "           dtype='int64', length=275)"
      ]
     },
     "execution_count": 11,
     "metadata": {},
     "output_type": "execute_result"
    }
   ],
   "source": [
    "X_train.index"
   ]
  },
  {
   "cell_type": "code",
   "execution_count": 12,
   "metadata": {
    "collapsed": false
   },
   "outputs": [
    {
     "name": "stdout",
     "output_type": "stream",
     "text": [
      "(275, 296)\n",
      "(275, 306)\n"
     ]
    },
    {
     "data": {
      "text/html": [
       "<div>\n",
       "<table border=\"1\" class=\"dataframe\">\n",
       "  <thead>\n",
       "    <tr style=\"text-align: right;\">\n",
       "      <th></th>\n",
       "      <th>liar</th>\n",
       "      <th>voter</th>\n",
       "      <th>ron</th>\n",
       "      <th>tweet</th>\n",
       "      <th>articl</th>\n",
       "      <th>ti</th>\n",
       "      <th>far</th>\n",
       "      <th>candid</th>\n",
       "      <th>servic</th>\n",
       "      <th>ted</th>\n",
       "      <th>...</th>\n",
       "      <th>Num of Candidate</th>\n",
       "      <th>Sarcasm_s1</th>\n",
       "      <th>Sarcasm_s2</th>\n",
       "      <th>Sarcasm_s3</th>\n",
       "      <th>Sarcasm_s4</th>\n",
       "      <th>Sarcasm_s5</th>\n",
       "      <th>Sarcasm_s6</th>\n",
       "      <th>Sarcasm_s7</th>\n",
       "      <th>Number of Sarc</th>\n",
       "      <th>Short and link</th>\n",
       "    </tr>\n",
       "  </thead>\n",
       "  <tbody>\n",
       "    <tr>\n",
       "      <th>109</th>\n",
       "      <td>0</td>\n",
       "      <td>0</td>\n",
       "      <td>0</td>\n",
       "      <td>0</td>\n",
       "      <td>0</td>\n",
       "      <td>0</td>\n",
       "      <td>0</td>\n",
       "      <td>0</td>\n",
       "      <td>0</td>\n",
       "      <td>0</td>\n",
       "      <td>...</td>\n",
       "      <td>1</td>\n",
       "      <td>0</td>\n",
       "      <td>0</td>\n",
       "      <td>0</td>\n",
       "      <td>0</td>\n",
       "      <td>0</td>\n",
       "      <td>0</td>\n",
       "      <td>0</td>\n",
       "      <td>0</td>\n",
       "      <td>0</td>\n",
       "    </tr>\n",
       "    <tr>\n",
       "      <th>17</th>\n",
       "      <td>0</td>\n",
       "      <td>0</td>\n",
       "      <td>0</td>\n",
       "      <td>0</td>\n",
       "      <td>0</td>\n",
       "      <td>0</td>\n",
       "      <td>0</td>\n",
       "      <td>0</td>\n",
       "      <td>0</td>\n",
       "      <td>0</td>\n",
       "      <td>...</td>\n",
       "      <td>2</td>\n",
       "      <td>0</td>\n",
       "      <td>0</td>\n",
       "      <td>0</td>\n",
       "      <td>0</td>\n",
       "      <td>0</td>\n",
       "      <td>0</td>\n",
       "      <td>0</td>\n",
       "      <td>0</td>\n",
       "      <td>1</td>\n",
       "    </tr>\n",
       "    <tr>\n",
       "      <th>352</th>\n",
       "      <td>0</td>\n",
       "      <td>0</td>\n",
       "      <td>0</td>\n",
       "      <td>0</td>\n",
       "      <td>0</td>\n",
       "      <td>0</td>\n",
       "      <td>0</td>\n",
       "      <td>0</td>\n",
       "      <td>0</td>\n",
       "      <td>0</td>\n",
       "      <td>...</td>\n",
       "      <td>1</td>\n",
       "      <td>0</td>\n",
       "      <td>0</td>\n",
       "      <td>0</td>\n",
       "      <td>0</td>\n",
       "      <td>0</td>\n",
       "      <td>0</td>\n",
       "      <td>0</td>\n",
       "      <td>0</td>\n",
       "      <td>0</td>\n",
       "    </tr>\n",
       "    <tr>\n",
       "      <th>24</th>\n",
       "      <td>0</td>\n",
       "      <td>0</td>\n",
       "      <td>0</td>\n",
       "      <td>0</td>\n",
       "      <td>0</td>\n",
       "      <td>0</td>\n",
       "      <td>0</td>\n",
       "      <td>0</td>\n",
       "      <td>0</td>\n",
       "      <td>0</td>\n",
       "      <td>...</td>\n",
       "      <td>1</td>\n",
       "      <td>0</td>\n",
       "      <td>0</td>\n",
       "      <td>1</td>\n",
       "      <td>0</td>\n",
       "      <td>0</td>\n",
       "      <td>0</td>\n",
       "      <td>0</td>\n",
       "      <td>1</td>\n",
       "      <td>0</td>\n",
       "    </tr>\n",
       "    <tr>\n",
       "      <th>126</th>\n",
       "      <td>0</td>\n",
       "      <td>0</td>\n",
       "      <td>0</td>\n",
       "      <td>0</td>\n",
       "      <td>0</td>\n",
       "      <td>0</td>\n",
       "      <td>0</td>\n",
       "      <td>0</td>\n",
       "      <td>0</td>\n",
       "      <td>0</td>\n",
       "      <td>...</td>\n",
       "      <td>2</td>\n",
       "      <td>0</td>\n",
       "      <td>0</td>\n",
       "      <td>0</td>\n",
       "      <td>0</td>\n",
       "      <td>0</td>\n",
       "      <td>0</td>\n",
       "      <td>0</td>\n",
       "      <td>0</td>\n",
       "      <td>0</td>\n",
       "    </tr>\n",
       "  </tbody>\n",
       "</table>\n",
       "<p>5 rows × 306 columns</p>\n",
       "</div>"
      ],
      "text/plain": [
       "     liar  voter  ron  tweet  articl  ti  far  candid  servic  ted  \\\n",
       "109     0      0    0      0       0   0    0       0       0    0   \n",
       "17      0      0    0      0       0   0    0       0       0    0   \n",
       "352     0      0    0      0       0   0    0       0       0    0   \n",
       "24      0      0    0      0       0   0    0       0       0    0   \n",
       "126     0      0    0      0       0   0    0       0       0    0   \n",
       "\n",
       "          ...        Num of Candidate  Sarcasm_s1  Sarcasm_s2  Sarcasm_s3  \\\n",
       "109       ...                       1           0           0           0   \n",
       "17        ...                       2           0           0           0   \n",
       "352       ...                       1           0           0           0   \n",
       "24        ...                       1           0           0           1   \n",
       "126       ...                       2           0           0           0   \n",
       "\n",
       "     Sarcasm_s4  Sarcasm_s5  Sarcasm_s6  Sarcasm_s7  Number of Sarc  \\\n",
       "109           0           0           0           0               0   \n",
       "17            0           0           0           0               0   \n",
       "352           0           0           0           0               0   \n",
       "24            0           0           0           0               1   \n",
       "126           0           0           0           0               0   \n",
       "\n",
       "     Short and link  \n",
       "109               0  \n",
       "17                1  \n",
       "352               0  \n",
       "24                0  \n",
       "126               0  \n",
       "\n",
       "[5 rows x 306 columns]"
      ]
     },
     "execution_count": 12,
     "metadata": {},
     "output_type": "execute_result"
    }
   ],
   "source": [
    "train_text_df = pd.DataFrame(train_text.todense(),columns=list(vectorizer.vocabulary_), dtype='int64', index=X_train.index)\n",
    "\n",
    "print train_text_df.shape\n",
    "\n",
    "X_train_df = pd.concat([train_text_df, X_train[feature_cols]], axis=1)\n",
    "print X_train_df.shape\n",
    "\n",
    "X_train_df.head()"
   ]
  },
  {
   "cell_type": "code",
   "execution_count": 13,
   "metadata": {
    "collapsed": false
   },
   "outputs": [],
   "source": [
    "# sm = SMOTE(kind='svm', random_state = 2017, k_neighbors=4, m_neighbors=12)\n",
    "# X_train_df, y_train = sm.fit_sample(X_train_df, y_train)\n",
    "\n",
    "# print \"After sampling: \", X_train_df.shape\n",
    "# print \"Percentage of positive samples become: %0.3f  \"%(float(sum(y_train==1))/len(y_train) * 100)"
   ]
  },
  {
   "cell_type": "code",
   "execution_count": 14,
   "metadata": {
    "collapsed": false
   },
   "outputs": [
    {
     "name": "stdout",
     "output_type": "stream",
     "text": [
      "(118, 296)\n",
      "(118, 306)\n"
     ]
    },
    {
     "data": {
      "text/html": [
       "<div>\n",
       "<table border=\"1\" class=\"dataframe\">\n",
       "  <thead>\n",
       "    <tr style=\"text-align: right;\">\n",
       "      <th></th>\n",
       "      <th>liar</th>\n",
       "      <th>voter</th>\n",
       "      <th>ron</th>\n",
       "      <th>tweet</th>\n",
       "      <th>articl</th>\n",
       "      <th>ti</th>\n",
       "      <th>far</th>\n",
       "      <th>candid</th>\n",
       "      <th>servic</th>\n",
       "      <th>ted</th>\n",
       "      <th>...</th>\n",
       "      <th>Num of Candidate</th>\n",
       "      <th>Sarcasm_s1</th>\n",
       "      <th>Sarcasm_s2</th>\n",
       "      <th>Sarcasm_s3</th>\n",
       "      <th>Sarcasm_s4</th>\n",
       "      <th>Sarcasm_s5</th>\n",
       "      <th>Sarcasm_s6</th>\n",
       "      <th>Sarcasm_s7</th>\n",
       "      <th>Number of Sarc</th>\n",
       "      <th>Short and link</th>\n",
       "    </tr>\n",
       "  </thead>\n",
       "  <tbody>\n",
       "    <tr>\n",
       "      <th>157</th>\n",
       "      <td>0</td>\n",
       "      <td>0</td>\n",
       "      <td>0</td>\n",
       "      <td>0</td>\n",
       "      <td>0</td>\n",
       "      <td>0</td>\n",
       "      <td>0</td>\n",
       "      <td>0</td>\n",
       "      <td>0</td>\n",
       "      <td>0</td>\n",
       "      <td>...</td>\n",
       "      <td>1</td>\n",
       "      <td>0</td>\n",
       "      <td>0</td>\n",
       "      <td>0</td>\n",
       "      <td>0</td>\n",
       "      <td>0</td>\n",
       "      <td>0</td>\n",
       "      <td>0</td>\n",
       "      <td>0</td>\n",
       "      <td>0</td>\n",
       "    </tr>\n",
       "    <tr>\n",
       "      <th>108</th>\n",
       "      <td>0</td>\n",
       "      <td>0</td>\n",
       "      <td>0</td>\n",
       "      <td>0</td>\n",
       "      <td>0</td>\n",
       "      <td>0</td>\n",
       "      <td>0</td>\n",
       "      <td>0</td>\n",
       "      <td>0</td>\n",
       "      <td>0</td>\n",
       "      <td>...</td>\n",
       "      <td>1</td>\n",
       "      <td>0</td>\n",
       "      <td>0</td>\n",
       "      <td>1</td>\n",
       "      <td>0</td>\n",
       "      <td>0</td>\n",
       "      <td>0</td>\n",
       "      <td>0</td>\n",
       "      <td>1</td>\n",
       "      <td>0</td>\n",
       "    </tr>\n",
       "    <tr>\n",
       "      <th>93</th>\n",
       "      <td>0</td>\n",
       "      <td>0</td>\n",
       "      <td>0</td>\n",
       "      <td>0</td>\n",
       "      <td>0</td>\n",
       "      <td>0</td>\n",
       "      <td>0</td>\n",
       "      <td>0</td>\n",
       "      <td>0</td>\n",
       "      <td>0</td>\n",
       "      <td>...</td>\n",
       "      <td>1</td>\n",
       "      <td>0</td>\n",
       "      <td>1</td>\n",
       "      <td>0</td>\n",
       "      <td>0</td>\n",
       "      <td>0</td>\n",
       "      <td>0</td>\n",
       "      <td>0</td>\n",
       "      <td>1</td>\n",
       "      <td>0</td>\n",
       "    </tr>\n",
       "    <tr>\n",
       "      <th>381</th>\n",
       "      <td>0</td>\n",
       "      <td>0</td>\n",
       "      <td>0</td>\n",
       "      <td>0</td>\n",
       "      <td>0</td>\n",
       "      <td>0</td>\n",
       "      <td>0</td>\n",
       "      <td>0</td>\n",
       "      <td>0</td>\n",
       "      <td>0</td>\n",
       "      <td>...</td>\n",
       "      <td>1</td>\n",
       "      <td>0</td>\n",
       "      <td>1</td>\n",
       "      <td>0</td>\n",
       "      <td>0</td>\n",
       "      <td>0</td>\n",
       "      <td>0</td>\n",
       "      <td>0</td>\n",
       "      <td>1</td>\n",
       "      <td>1</td>\n",
       "    </tr>\n",
       "    <tr>\n",
       "      <th>209</th>\n",
       "      <td>0</td>\n",
       "      <td>0</td>\n",
       "      <td>0</td>\n",
       "      <td>0</td>\n",
       "      <td>0</td>\n",
       "      <td>0</td>\n",
       "      <td>0</td>\n",
       "      <td>0</td>\n",
       "      <td>0</td>\n",
       "      <td>0</td>\n",
       "      <td>...</td>\n",
       "      <td>1</td>\n",
       "      <td>1</td>\n",
       "      <td>0</td>\n",
       "      <td>0</td>\n",
       "      <td>0</td>\n",
       "      <td>0</td>\n",
       "      <td>0</td>\n",
       "      <td>0</td>\n",
       "      <td>1</td>\n",
       "      <td>0</td>\n",
       "    </tr>\n",
       "    <tr>\n",
       "      <th>63</th>\n",
       "      <td>0</td>\n",
       "      <td>0</td>\n",
       "      <td>0</td>\n",
       "      <td>0</td>\n",
       "      <td>0</td>\n",
       "      <td>0</td>\n",
       "      <td>0</td>\n",
       "      <td>0</td>\n",
       "      <td>0</td>\n",
       "      <td>0</td>\n",
       "      <td>...</td>\n",
       "      <td>2</td>\n",
       "      <td>0</td>\n",
       "      <td>0</td>\n",
       "      <td>0</td>\n",
       "      <td>0</td>\n",
       "      <td>0</td>\n",
       "      <td>0</td>\n",
       "      <td>0</td>\n",
       "      <td>0</td>\n",
       "      <td>0</td>\n",
       "    </tr>\n",
       "    <tr>\n",
       "      <th>195</th>\n",
       "      <td>0</td>\n",
       "      <td>0</td>\n",
       "      <td>0</td>\n",
       "      <td>0</td>\n",
       "      <td>0</td>\n",
       "      <td>0</td>\n",
       "      <td>0</td>\n",
       "      <td>0</td>\n",
       "      <td>0</td>\n",
       "      <td>0</td>\n",
       "      <td>...</td>\n",
       "      <td>1</td>\n",
       "      <td>0</td>\n",
       "      <td>0</td>\n",
       "      <td>0</td>\n",
       "      <td>0</td>\n",
       "      <td>0</td>\n",
       "      <td>0</td>\n",
       "      <td>0</td>\n",
       "      <td>0</td>\n",
       "      <td>1</td>\n",
       "    </tr>\n",
       "    <tr>\n",
       "      <th>369</th>\n",
       "      <td>0</td>\n",
       "      <td>0</td>\n",
       "      <td>0</td>\n",
       "      <td>0</td>\n",
       "      <td>0</td>\n",
       "      <td>0</td>\n",
       "      <td>0</td>\n",
       "      <td>0</td>\n",
       "      <td>0</td>\n",
       "      <td>0</td>\n",
       "      <td>...</td>\n",
       "      <td>1</td>\n",
       "      <td>0</td>\n",
       "      <td>0</td>\n",
       "      <td>0</td>\n",
       "      <td>0</td>\n",
       "      <td>0</td>\n",
       "      <td>0</td>\n",
       "      <td>0</td>\n",
       "      <td>0</td>\n",
       "      <td>0</td>\n",
       "    </tr>\n",
       "    <tr>\n",
       "      <th>118</th>\n",
       "      <td>0</td>\n",
       "      <td>0</td>\n",
       "      <td>0</td>\n",
       "      <td>0</td>\n",
       "      <td>0</td>\n",
       "      <td>0</td>\n",
       "      <td>0</td>\n",
       "      <td>0</td>\n",
       "      <td>0</td>\n",
       "      <td>0</td>\n",
       "      <td>...</td>\n",
       "      <td>1</td>\n",
       "      <td>0</td>\n",
       "      <td>0</td>\n",
       "      <td>0</td>\n",
       "      <td>0</td>\n",
       "      <td>0</td>\n",
       "      <td>0</td>\n",
       "      <td>0</td>\n",
       "      <td>0</td>\n",
       "      <td>0</td>\n",
       "    </tr>\n",
       "    <tr>\n",
       "      <th>79</th>\n",
       "      <td>0</td>\n",
       "      <td>0</td>\n",
       "      <td>0</td>\n",
       "      <td>0</td>\n",
       "      <td>0</td>\n",
       "      <td>0</td>\n",
       "      <td>0</td>\n",
       "      <td>0</td>\n",
       "      <td>0</td>\n",
       "      <td>0</td>\n",
       "      <td>...</td>\n",
       "      <td>1</td>\n",
       "      <td>0</td>\n",
       "      <td>1</td>\n",
       "      <td>0</td>\n",
       "      <td>0</td>\n",
       "      <td>0</td>\n",
       "      <td>0</td>\n",
       "      <td>0</td>\n",
       "      <td>1</td>\n",
       "      <td>0</td>\n",
       "    </tr>\n",
       "  </tbody>\n",
       "</table>\n",
       "<p>10 rows × 306 columns</p>\n",
       "</div>"
      ],
      "text/plain": [
       "     liar  voter  ron  tweet  articl  ti  far  candid  servic  ted  \\\n",
       "157     0      0    0      0       0   0    0       0       0    0   \n",
       "108     0      0    0      0       0   0    0       0       0    0   \n",
       "93      0      0    0      0       0   0    0       0       0    0   \n",
       "381     0      0    0      0       0   0    0       0       0    0   \n",
       "209     0      0    0      0       0   0    0       0       0    0   \n",
       "63      0      0    0      0       0   0    0       0       0    0   \n",
       "195     0      0    0      0       0   0    0       0       0    0   \n",
       "369     0      0    0      0       0   0    0       0       0    0   \n",
       "118     0      0    0      0       0   0    0       0       0    0   \n",
       "79      0      0    0      0       0   0    0       0       0    0   \n",
       "\n",
       "          ...        Num of Candidate  Sarcasm_s1  Sarcasm_s2  Sarcasm_s3  \\\n",
       "157       ...                       1           0           0           0   \n",
       "108       ...                       1           0           0           1   \n",
       "93        ...                       1           0           1           0   \n",
       "381       ...                       1           0           1           0   \n",
       "209       ...                       1           1           0           0   \n",
       "63        ...                       2           0           0           0   \n",
       "195       ...                       1           0           0           0   \n",
       "369       ...                       1           0           0           0   \n",
       "118       ...                       1           0           0           0   \n",
       "79        ...                       1           0           1           0   \n",
       "\n",
       "     Sarcasm_s4  Sarcasm_s5  Sarcasm_s6  Sarcasm_s7  Number of Sarc  \\\n",
       "157           0           0           0           0               0   \n",
       "108           0           0           0           0               1   \n",
       "93            0           0           0           0               1   \n",
       "381           0           0           0           0               1   \n",
       "209           0           0           0           0               1   \n",
       "63            0           0           0           0               0   \n",
       "195           0           0           0           0               0   \n",
       "369           0           0           0           0               0   \n",
       "118           0           0           0           0               0   \n",
       "79            0           0           0           0               1   \n",
       "\n",
       "     Short and link  \n",
       "157               0  \n",
       "108               0  \n",
       "93                0  \n",
       "381               1  \n",
       "209               0  \n",
       "63                0  \n",
       "195               1  \n",
       "369               0  \n",
       "118               0  \n",
       "79                0  \n",
       "\n",
       "[10 rows x 306 columns]"
      ]
     },
     "execution_count": 14,
     "metadata": {},
     "output_type": "execute_result"
    }
   ],
   "source": [
    "test_text, vectorizer, weighting = textPreprocess(X_test['contents'], train=False)\n",
    "\n",
    "print test_text.todense().shape\n",
    "\n",
    "test_text_df = pd.DataFrame(test_text.todense(),columns=list(vectorizer.vocabulary_), dtype='int64', index=X_test.index)\n",
    "\n",
    "X_test_df = pd.concat([test_text_df, X_test[feature_cols]], axis=1)\n",
    "print X_test_df.shape\n",
    "\n",
    "X_test_df.sample(10)\n",
    "\n"
   ]
  },
  {
   "cell_type": "code",
   "execution_count": 15,
   "metadata": {
    "collapsed": false
   },
   "outputs": [],
   "source": [
    "parameters = {\n",
    "\n",
    "    'clf__C': (1.0, 0.9, 0.8,0.7, 0.6, 0.5, 0.4),\n",
    "#     'clf__penalty': ('l1','l2'),\n",
    "    'clf__dual': (True, False),\n",
    "#     'clf__loss': ('hinge', 'squared_hinge'),\n",
    "    'clf__tol': (1e-3, 1e-4, 1e-5)\n",
    "\n",
    "}"
   ]
  },
  {
   "cell_type": "code",
   "execution_count": 16,
   "metadata": {
    "collapsed": true
   },
   "outputs": [],
   "source": [
    "def tuner(X, y, NUM_TRIALS, param, K, select=True):\n",
    "    '''\n",
    "\n",
    "    :param param: dict containing parameters to tune\n",
    "    :param k: KFold Cross-Validation\n",
    "    :return: model and scores\n",
    "    '''\n",
    "\n",
    "    piper = Pipeline([\n",
    "        ('clf', svm.LinearSVC(class_weight='balanced'))\n",
    "    ])\n",
    "    if select:\n",
    "        global sel\n",
    "        sel = SelectFromModel(estimator=ExtraTreesClassifier(n_estimators=250,\n",
    "                              random_state=0, min_samples_leaf = 0.05), threshold=\"0.6*mean\")\n",
    "        X = sel.fit_transform(X,y)\n",
    "        print X.shape\n",
    "#         print sel.feature_importance_\n",
    "    parameters = param\n",
    "    scores = np.zeros(NUM_TRIALS)\n",
    "    CCR = np.zeros(NUM_TRIALS)\n",
    "    models = []\n",
    "    t0 = time()\n",
    "    for i in range(NUM_TRIALS):\n",
    "\n",
    "        print(i)\n",
    "\n",
    "        inner_cv = KFold(n_splits = K, shuffle=True, random_state=i)\n",
    "\n",
    "        model = GridSearchCV(piper, param_grid=parameters, cv=inner_cv, n_jobs=-1, scoring='precision') # accuracy no good, TPR/recall no good\n",
    "        model.fit(X, y)\n",
    "\n",
    "        scores[i] = model.best_score_\n",
    "        models.append(model)\n",
    "    print(\"done in %0.3fs\" % (time() - t0))\n",
    "\n",
    "    return (models, scores)"
   ]
  },
  {
   "cell_type": "code",
   "execution_count": 17,
   "metadata": {
    "collapsed": false,
    "scrolled": false
   },
   "outputs": [
    {
     "name": "stdout",
     "output_type": "stream",
     "text": [
      "(275, 7)\n",
      "0\n",
      "1\n",
      "2\n",
      "3\n",
      "4\n",
      "5\n",
      "6\n",
      "done in 5.203s\n"
     ]
    }
   ],
   "source": [
    "res_models, eval_score = tuner(X_train_df,y_train,7,parameters, K=5, select=True)"
   ]
  },
  {
   "cell_type": "code",
   "execution_count": 18,
   "metadata": {
    "collapsed": false
   },
   "outputs": [
    {
     "name": "stdout",
     "output_type": "stream",
     "text": [
      "[ 0.06875817  0.0544733   0.05879061  0.04333333  0.05650062  0.05488889\n",
      "  0.04143504]\n"
     ]
    },
    {
     "data": {
      "text/plain": [
       "{'clf__C': 1.0, 'clf__dual': True, 'clf__tol': 1e-05}"
      ]
     },
     "execution_count": 18,
     "metadata": {},
     "output_type": "execute_result"
    }
   ],
   "source": [
    "print eval_score\n",
    "\n",
    "res_models[eval_score.argmax()].best_params_"
   ]
  },
  {
   "cell_type": "code",
   "execution_count": 19,
   "metadata": {
    "collapsed": false
   },
   "outputs": [
    {
     "name": "stdout",
     "output_type": "stream",
     "text": [
      "(275, 306)\n",
      "(118, 306)\n",
      "             precision    recall  f1-score   support\n",
      "\n",
      "          0       0.88      0.69      0.77       103\n",
      "          1       0.14      0.33      0.19        15\n",
      "\n",
      "avg / total       0.78      0.64      0.70       118\n",
      "\n",
      "Precision: 13.51\n",
      "TPR(recall): 33.33\n",
      "CCR: 64.41\n",
      "FPR: 31.07\n",
      "[[71 32]\n",
      " [10  5]]\n",
      "Percentage of predicted positives 31.36\n"
     ]
    }
   ],
   "source": [
    "# X_train, X_test, y_train, y_test = train_test_split(X, y, test_size=0.33, random_state=42)\n",
    "# X_train_df = sel.transform(X_train_df)\n",
    "print X_train_df.shape\n",
    "clf = res_models[eval_score.argmax()].best_estimator_.fit(X_train_df, y_train)\n",
    "# X_test_df = sel.transform(X_test_df)\n",
    "print X_test_df.shape\n",
    "predicted = clf.predict(X_test_df)\n",
    "\n",
    "# embed()\n",
    "\n",
    "print(metrics.classification_report(y_test, predicted))\n",
    "print(\"Precision: %0.2f\" % (metrics.precision_score(y_test, predicted)*100))\n",
    "print(\"TPR(recall): %0.2f\" % (metrics.recall_score(y_test, predicted)*100))\n",
    "# print(\"F1_score: %0.2f\" % (metrics.f1_score(y_test, predicted)*100))\n",
    "\n",
    "\n",
    "cmat = metrics.confusion_matrix(y_test, predicted)\n",
    "\n",
    "\n",
    "print(\"CCR: %0.2f\"%(float((cmat[0][0]+cmat[1][1]))* 100/sum(sum(cmat))))\n",
    "print(\"FPR: %0.2f\"%(float(cmat[0][1])* 100/(cmat[0][0]+cmat[0][1])))\n",
    "print(cmat)\n",
    "print(\"Percentage of predicted positives %0.2f\" % (float((cmat[0][1] + cmat[1][1])) * 100 / sum(sum(cmat))))\n",
    "\n",
    "\n"
   ]
  },
  {
   "cell_type": "code",
   "execution_count": 24,
   "metadata": {
    "collapsed": true
   },
   "outputs": [],
   "source": []
  },
  {
   "cell_type": "code",
   "execution_count": null,
   "metadata": {
    "collapsed": true
   },
   "outputs": [],
   "source": []
  },
  {
   "cell_type": "code",
   "execution_count": null,
   "metadata": {
    "collapsed": true
   },
   "outputs": [],
   "source": []
  },
  {
   "cell_type": "code",
   "execution_count": null,
   "metadata": {
    "collapsed": true
   },
   "outputs": [],
   "source": []
  },
  {
   "cell_type": "code",
   "execution_count": null,
   "metadata": {
    "collapsed": true
   },
   "outputs": [],
   "source": []
  },
  {
   "cell_type": "code",
   "execution_count": null,
   "metadata": {
    "collapsed": true
   },
   "outputs": [],
   "source": []
  },
  {
   "cell_type": "code",
   "execution_count": null,
   "metadata": {
    "collapsed": true
   },
   "outputs": [],
   "source": []
  },
  {
   "cell_type": "code",
   "execution_count": null,
   "metadata": {
    "collapsed": true
   },
   "outputs": [],
   "source": []
  },
  {
   "cell_type": "code",
   "execution_count": 25,
   "metadata": {
    "collapsed": false
   },
   "outputs": [
    {
     "data": {
      "text/plain": [
       "Index([u'contents', u'Num of Candidate', u'Sarcasm_s1', u'Sarcasm_s2',\n",
       "       u'Sarcasm_s3', u'Sarcasm_s4', u'Sarcasm_s5', u'Sarcasm_s6',\n",
       "       u'Sarcasm_s7', u'Number of Sarc', u'Short and link'],\n",
       "      dtype='object')"
      ]
     },
     "execution_count": 25,
     "metadata": {},
     "output_type": "execute_result"
    }
   ],
   "source": [
    "data.columns\n"
   ]
  },
  {
   "cell_type": "code",
   "execution_count": 128,
   "metadata": {
    "collapsed": false,
    "scrolled": false
   },
   "outputs": [],
   "source": [
    "\n",
    "for i in range(524,len(data.columns)-1): \n",
    "    plt.figure(i)\n",
    "    x0 = np.array(data[data['label']==0][data.columns[i]])\n",
    "    x1 = np.array(data[data['label']==1][data.columns[i]])\n",
    "    sns.distplot(x0, kde=False, rug=True, label=\"unified\")\n",
    "    sns.distplot(x1, kde=False, rug=True, label='diversified')\n",
    "    plt.legend()\n",
    "    plt.title(data.columns[i])\n",
    "    \n",
    "\n",
    "\n",
    "plt.show()\n",
    "\n"
   ]
  },
  {
   "cell_type": "code",
   "execution_count": 129,
   "metadata": {
    "collapsed": false
   },
   "outputs": [
    {
     "data": {
      "text/plain": [
       "<matplotlib.text.Text at 0x1118c3510>"
      ]
     },
     "execution_count": 129,
     "metadata": {},
     "output_type": "execute_result"
    },
    {
     "data": {
      "image/png": "[encoded data removed]",
      "text/plain": [
       "<matplotlib.figure.Figure at 0x111653690>"
      ]
     },
     "metadata": {},
     "output_type": "display_data"
    }
   ],
   "source": [
    "for i in\n",
    "\n",
    "plt.figure()\n",
    "x0 = np.array(data[data['label']==0]['donaldtrump'])\n",
    "x1 = np.array(data[data['label']==1]['donaldtrump'])\n",
    "sns.distplot(x0, kde=False, rug=True, label=\"unified\")\n",
    "sns.distplot(x1, kde=False, rug=True, label='diversified')\n",
    "plt.legend()\n",
    "plt.title('donaldtrump')\n",
    "\n",
    "\n"
   ]
  },
  {
   "cell_type": "code",
   "execution_count": 123,
   "metadata": {
    "collapsed": false,
    "scrolled": false
   },
   "outputs": [
    {
     "data": {
      "text/plain": [
       "100"
      ]
     },
     "execution_count": 123,
     "metadata": {},
     "output_type": "execute_result"
    }
   ],
   "source": [
    "len(raw[raw['label']==1])\n"
   ]
  },
  {
   "cell_type": "code",
   "execution_count": 140,
   "metadata": {
    "collapsed": false
   },
   "outputs": [
    {
     "name": "stdout",
     "output_type": "stream",
     "text": [
      "care set([0])\n",
      "notic set([0])\n",
      "hold set([0])\n",
      "want set([0])\n",
      "wrong set([0])\n",
      "carson set([0])\n",
      "listen set([0])\n",
      "donaldtrump set([0])\n",
      "runner set([0])\n",
      "bush set([0])\n",
      "busi set([0])\n",
      "new set([0])\n",
      "result set([0])\n",
      "fail set([0])\n",
      "best set([0])\n",
      "countri set([0])\n",
      "right set([0])\n",
      "support set([0])\n",
      "tell set([0])\n",
      "time set([0])\n",
      "hot set([0])\n",
      "sai trump set([0])\n",
      "love set([0])\n",
      "sc set([0])\n",
      "didn set([0])\n",
      "polit set([0])\n",
      "vote set([0])\n",
      "sai set([0])\n",
      "noth set([0])\n",
      "carolina set([0])\n",
      "better set([0])\n",
      "come set([0])\n",
      "trump presid set([0])\n",
      "cruz rubio set([0])\n",
      "candid set([0])\n",
      "isn set([0])\n",
      "mexican set([0])\n",
      "realli set([0])\n",
      "believ set([0])\n",
      "guess set([0])\n",
      "jeb set([0])\n",
      "plan set([0])\n",
      "cover set([0])\n",
      "person set([0])\n",
      "clinton set([0])\n",
      "try set([0])\n",
      "video set([0])\n",
      "let set([0])\n",
      "great set([0])\n",
      "ted cruz set([0])\n",
      "anyth set([0])\n",
      "endors set([0])\n",
      "tonight set([0])\n",
      "fact set([0])\n",
      "hope set([0])\n",
      "ve set([0])\n",
      "cruz set([0])\n",
      "year set([0])\n",
      "sander set([0])\n",
      "voter set([0])\n",
      "work set([0])\n",
      "disappoint set([0])\n",
      "break set([0])\n",
      "donald trump set([0])\n",
      "strong set([0])\n",
      "night set([0])\n",
      "post set([0])\n",
      "wai set([0])\n",
      "true set([0])\n",
      "gui set([0])\n",
      "muslim set([0])\n",
      "cruz trump set([0])\n",
      "berni set([0])\n",
      "america set([0])\n",
      "gopdeb set([0])\n",
      "women set([0])\n",
      "media set([0])\n",
      "someon set([0])\n",
      "fraud set([0])\n",
      "ahead set([0])\n",
      "real set([0])\n",
      "famili set([0])\n",
      "read set([0])\n",
      "pope franci set([0])\n",
      "reason set([0])\n",
      "ask set([0])\n",
      "american set([0])\n",
      "trump trump set([0])\n",
      "differ set([0])\n",
      "won set([0])\n",
      "trump won set([0])\n",
      "look set([0])\n",
      "realiz set([0])\n",
      "marco set([0])\n",
      "run set([0])\n",
      "doesn set([0])\n",
      "peopl set([0])\n",
      "hampshir set([0])\n",
      "win set([0])\n",
      "trump win set([0])\n",
      "attack set([0])\n",
      "rubio cruz set([0])\n",
      "vote donald trump set([0])\n",
      "tuesdai set([0])\n",
      "parti set([0])\n",
      "lost set([0])\n",
      "lose set([0])\n",
      "rememb set([0])\n",
      "stai set([0])\n",
      "campaign set([0])\n",
      "thing set([0])\n",
      "nevada set([0])\n",
      "bad set([0])\n",
      "said set([0])\n",
      "make set([0])\n",
      "just set([0])\n",
      "super set([0])\n",
      "stop set([0])\n",
      "democrat set([0])\n",
      "elect set([0])\n",
      "franci set([0])\n",
      "predict set([0])\n",
      "talk set([0])\n",
      "new hampshir set([0])\n",
      "trump campaign set([0])\n",
      "thank set([0])\n",
      "think set([0])\n",
      "hillari set([0])\n",
      "trump support set([0])\n",
      "black set([0])\n",
      "mark set([0])\n",
      "audienc set([0])\n",
      "speech set([0])\n",
      "mani set([0])\n",
      "kasich set([0])\n",
      "monei set([0])\n",
      "victori set([0])\n",
      "trumptrain set([0])\n",
      "liar set([0])\n",
      "christi set([0])\n",
      "establish set([0])\n",
      "hous set([0])\n",
      "good set([0])\n",
      "bulli set([0])\n",
      "nomin set([0])\n",
      "mr trump set([0])\n",
      "debat set([0])\n",
      "secret set([0])\n",
      "everyon set([0])\n",
      "big set([0])\n",
      "vote trump set([0])\n",
      "presidenti set([0])\n",
      "ll set([0])\n",
      "presid set([0])\n",
      "south set([0])\n",
      "immigr set([0])\n",
      "trump nomin set([0])\n",
      "texa set([0])\n",
      "nhprimari set([0])\n",
      "comment set([0])\n",
      "latest set([0])\n",
      "like set([0])\n",
      "probabl set([0])\n",
      "tweet set([0])\n",
      "mr set([0])\n",
      "iowa set([0])\n",
      "gop set([0])\n",
      "free set([0])\n",
      "conserv set([0])\n",
      "pope set([0])\n",
      "watch set([0])\n",
      "report set([0])\n",
      "donald set([0])\n",
      "nh set([0])\n",
      "ny set([0])\n",
      "vote donald set([0])\n",
      "todai set([0])\n",
      "trump set([0])\n",
      "critic set([0])\n",
      "rubio set([0])\n",
      "white set([0])\n",
      "state set([0])\n",
      "poll set([0])\n",
      "south carolina set([0])\n",
      "don set([0])\n",
      "consid set([0])\n",
      "hard set([0])\n",
      "trump cruz set([0])\n",
      "trump rubio set([0])\n",
      "ted set([0])\n",
      "christian set([0])\n",
      "trump ralli set([0])\n",
      "threat set([0])\n",
      "feel set([0])\n",
      "trump sander set([0])\n",
      "surpris set([0])\n",
      "support trump set([0])\n",
      "ralli set([0])\n",
      "trump just set([0])\n",
      "pleas set([0])\n",
      "tax set([0])\n",
      "chri set([0])\n",
      "republican set([0])\n",
      "bought set([0])\n",
      "job set([0])\n",
      "wall set([0])\n",
      "need set([0])\n",
      "know set([0])\n",
      "lead set([0])\n",
      "trump sai set([0])\n",
      "record set([0])\n",
      "211\n"
     ]
    }
   ],
   "source": [
    "count=0\n",
    "for i in range(len(data.columns)):\n",
    "    if len(set(data[data.columns[i]]))==1:\n",
    "        print data.columns[i],set(data[data.columns[i]])\n",
    "        count +=1\n",
    "print count"
   ]
  },
  {
   "cell_type": "code",
   "execution_count": 137,
   "metadata": {
    "collapsed": false
   },
   "outputs": [
    {
     "data": {
      "text/plain": [
       "1"
      ]
     },
     "execution_count": 137,
     "metadata": {},
     "output_type": "execute_result"
    }
   ],
   "source": [
    "len(set(data['donaldtrump']))\n"
   ]
  },
  {
   "cell_type": "code",
   "execution_count": 36,
   "metadata": {
    "collapsed": false
   },
   "outputs": [
    {
     "name": "stdout",
     "output_type": "stream",
     "text": [
      "(332, 238)\n",
      "(143, 238)\n",
      "(475, 238)\n"
     ]
    }
   ],
   "source": [
    "train = pd.concat([X_train_df, pd.DataFrame(y_train, index=X_train_df.index, columns=[\"label\"])],axis=1)\n",
    "\n",
    "print train.shape\n",
    "\n",
    "test = pd.concat([X_test_df, pd.DataFrame(y_test, index=X_test_df.index, columns=[\"label\"])],axis=1)\n",
    "\n",
    "print test.shape\n",
    "\n",
    "data = pd.concat([train, test], axis=0)\n",
    "\n",
    "print data.shape"
   ]
  },
  {
   "cell_type": "code",
   "execution_count": 37,
   "metadata": {
    "collapsed": false
   },
   "outputs": [
    {
     "data": {
      "text/html": [
       "<div>\n",
       "<table border=\"1\" class=\"dataframe\">\n",
       "  <thead>\n",
       "    <tr style=\"text-align: right;\">\n",
       "      <th></th>\n",
       "      <th>second</th>\n",
       "      <th>new</th>\n",
       "      <th>campaign</th>\n",
       "      <th>tell</th>\n",
       "      <th>notic</th>\n",
       "      <th>hold</th>\n",
       "      <th>want</th>\n",
       "      <th>hot</th>\n",
       "      <th>wrong</th>\n",
       "      <th>better</th>\n",
       "      <th>...</th>\n",
       "      <th>Sarcasm_s1</th>\n",
       "      <th>Sarcasm_s2</th>\n",
       "      <th>Sarcasm_s3</th>\n",
       "      <th>Sarcasm_s4</th>\n",
       "      <th>Sarcasm_s5</th>\n",
       "      <th>Sarcasm_s6</th>\n",
       "      <th>Sarcasm_s7</th>\n",
       "      <th>Number of Sarc</th>\n",
       "      <th>Short and link</th>\n",
       "      <th>label</th>\n",
       "    </tr>\n",
       "  </thead>\n",
       "  <tbody>\n",
       "    <tr>\n",
       "      <th>312</th>\n",
       "      <td>0</td>\n",
       "      <td>0</td>\n",
       "      <td>0</td>\n",
       "      <td>0</td>\n",
       "      <td>0</td>\n",
       "      <td>0</td>\n",
       "      <td>0</td>\n",
       "      <td>0</td>\n",
       "      <td>0</td>\n",
       "      <td>0</td>\n",
       "      <td>...</td>\n",
       "      <td>0</td>\n",
       "      <td>0</td>\n",
       "      <td>0</td>\n",
       "      <td>0</td>\n",
       "      <td>0</td>\n",
       "      <td>0</td>\n",
       "      <td>0</td>\n",
       "      <td>0</td>\n",
       "      <td>1</td>\n",
       "      <td>1</td>\n",
       "    </tr>\n",
       "    <tr>\n",
       "      <th>29</th>\n",
       "      <td>0</td>\n",
       "      <td>0</td>\n",
       "      <td>0</td>\n",
       "      <td>0</td>\n",
       "      <td>0</td>\n",
       "      <td>0</td>\n",
       "      <td>0</td>\n",
       "      <td>0</td>\n",
       "      <td>0</td>\n",
       "      <td>0</td>\n",
       "      <td>...</td>\n",
       "      <td>0</td>\n",
       "      <td>1</td>\n",
       "      <td>0</td>\n",
       "      <td>0</td>\n",
       "      <td>0</td>\n",
       "      <td>0</td>\n",
       "      <td>0</td>\n",
       "      <td>1</td>\n",
       "      <td>0</td>\n",
       "      <td>0</td>\n",
       "    </tr>\n",
       "    <tr>\n",
       "      <th>182</th>\n",
       "      <td>0</td>\n",
       "      <td>0</td>\n",
       "      <td>0</td>\n",
       "      <td>0</td>\n",
       "      <td>0</td>\n",
       "      <td>0</td>\n",
       "      <td>0</td>\n",
       "      <td>0</td>\n",
       "      <td>0</td>\n",
       "      <td>0</td>\n",
       "      <td>...</td>\n",
       "      <td>0</td>\n",
       "      <td>1</td>\n",
       "      <td>0</td>\n",
       "      <td>0</td>\n",
       "      <td>0</td>\n",
       "      <td>0</td>\n",
       "      <td>1</td>\n",
       "      <td>2</td>\n",
       "      <td>0</td>\n",
       "      <td>0</td>\n",
       "    </tr>\n",
       "    <tr>\n",
       "      <th>392</th>\n",
       "      <td>0</td>\n",
       "      <td>0</td>\n",
       "      <td>0</td>\n",
       "      <td>0</td>\n",
       "      <td>0</td>\n",
       "      <td>0</td>\n",
       "      <td>0</td>\n",
       "      <td>0</td>\n",
       "      <td>0</td>\n",
       "      <td>0</td>\n",
       "      <td>...</td>\n",
       "      <td>0</td>\n",
       "      <td>0</td>\n",
       "      <td>0</td>\n",
       "      <td>0</td>\n",
       "      <td>0</td>\n",
       "      <td>0</td>\n",
       "      <td>0</td>\n",
       "      <td>0</td>\n",
       "      <td>0</td>\n",
       "      <td>0</td>\n",
       "    </tr>\n",
       "    <tr>\n",
       "      <th>26</th>\n",
       "      <td>0</td>\n",
       "      <td>0</td>\n",
       "      <td>0</td>\n",
       "      <td>0</td>\n",
       "      <td>0</td>\n",
       "      <td>0</td>\n",
       "      <td>0</td>\n",
       "      <td>0</td>\n",
       "      <td>0</td>\n",
       "      <td>0</td>\n",
       "      <td>...</td>\n",
       "      <td>0</td>\n",
       "      <td>1</td>\n",
       "      <td>0</td>\n",
       "      <td>0</td>\n",
       "      <td>0</td>\n",
       "      <td>0</td>\n",
       "      <td>0</td>\n",
       "      <td>1</td>\n",
       "      <td>0</td>\n",
       "      <td>0</td>\n",
       "    </tr>\n",
       "  </tbody>\n",
       "</table>\n",
       "<p>5 rows × 238 columns</p>\n",
       "</div>"
      ],
      "text/plain": [
       "     second  new  campaign  tell  notic  hold  want  hot  wrong  better  \\\n",
       "312       0    0         0     0      0     0     0    0      0       0   \n",
       "29        0    0         0     0      0     0     0    0      0       0   \n",
       "182       0    0         0     0      0     0     0    0      0       0   \n",
       "392       0    0         0     0      0     0     0    0      0       0   \n",
       "26        0    0         0     0      0     0     0    0      0       0   \n",
       "\n",
       "     ...    Sarcasm_s1  Sarcasm_s2  Sarcasm_s3  Sarcasm_s4  Sarcasm_s5  \\\n",
       "312  ...             0           0           0           0           0   \n",
       "29   ...             0           1           0           0           0   \n",
       "182  ...             0           1           0           0           0   \n",
       "392  ...             0           0           0           0           0   \n",
       "26   ...             0           1           0           0           0   \n",
       "\n",
       "     Sarcasm_s6  Sarcasm_s7  Number of Sarc  Short and link  label  \n",
       "312           0           0               0               1      1  \n",
       "29            0           0               1               0      0  \n",
       "182           0           1               2               0      0  \n",
       "392           0           0               0               0      0  \n",
       "26            0           0               1               0      0  \n",
       "\n",
       "[5 rows x 238 columns]"
      ]
     },
     "execution_count": 37,
     "metadata": {},
     "output_type": "execute_result"
    }
   ],
   "source": [
    "data.head()"
   ]
  },
  {
   "cell_type": "code",
   "execution_count": 38,
   "metadata": {
    "collapsed": true
   },
   "outputs": [],
   "source": [
    "y = data['label']\n",
    "del data['label']\n",
    "X = data"
   ]
  },
  {
   "cell_type": "code",
   "execution_count": 22,
   "metadata": {
    "collapsed": true
   },
   "outputs": [],
   "source": [
    "from matplotlib import offsetbox\n",
    "from sklearn import (manifold, datasets, decomposition, ensemble,\n",
    "                     discriminant_analysis, random_projection)"
   ]
  },
  {
   "cell_type": "code",
   "execution_count": 63,
   "metadata": {
    "collapsed": false
   },
   "outputs": [],
   "source": [
    "Y =np.array(y, dtype='int64')\n"
   ]
  },
  {
   "cell_type": "code",
   "execution_count": 66,
   "metadata": {
    "collapsed": false
   },
   "outputs": [
    {
     "data": {
      "text/plain": [
       "100"
      ]
     },
     "execution_count": 66,
     "metadata": {},
     "output_type": "execute_result"
    }
   ],
   "source": [
    "len(X_tsne[Y == 1,0])"
   ]
  },
  {
   "cell_type": "code",
   "execution_count": 74,
   "metadata": {
    "collapsed": false
   },
   "outputs": [
    {
     "name": "stdout",
     "output_type": "stream",
     "text": [
      "Computing t-SNE embedding\n"
     ]
    },
    {
     "data": {
      "image/png": "[encoded data removed]",
      "text/plain": [
       "<matplotlib.figure.Figure at 0x117e5d6d0>"
      ]
     },
     "metadata": {},
     "output_type": "display_data"
    }
   ],
   "source": [
    "almost_black = '#262626'\n",
    "palette = sns.color_palette()\n",
    "print(\"Computing t-SNE embedding\")\n",
    "tsne = manifold.TSNE(n_components=2, init='pca', random_state=1)\n",
    "t0 = time()\n",
    "X_tsne = tsne.fit_transform(X)\n",
    "\n",
    "plt.scatter(X_tsne[Y == 0,0],X_tsne[Y == 0,1], label='Class 0',alpha=0.5,\n",
    "            edgecolor=almost_black, facecolor=palette[0], linewidth=0.15)\n",
    "plt.scatter(X_tsne[Y == 1,0], X_tsne[Y == 1,1],label='Class 1',alpha=0.5,\n",
    "            edgecolor=almost_black, facecolor=palette[2], linewidth=0.15)\n",
    "plt.legend()\n",
    "# imagebox = offsetbox.AnnotationBbox(\n",
    "#                 offsetbox.OffsetImage(digits.images[i], cmap=plt.cm.gray_r),\n",
    "#                 X[i])\n",
    "# plt.add_artist(imagebox)\n",
    "plt.title('tSNE embedding of the tweets')\n",
    "plt.xticks([]), plt.yticks([])\n",
    "plt.show()"
   ]
  },
  {
   "cell_type": "code",
   "execution_count": 24,
   "metadata": {
    "collapsed": true
   },
   "outputs": [],
   "source": [
    "# Scale and visualize the embedding vectors\n",
    "def plot_embedding(X, title=None):\n",
    "    x_min, x_max = np.min(X, 0), np.max(X, 0)\n",
    "    X = (X - x_min) / (x_max - x_min)\n",
    "\n",
    "    plt.figure()\n",
    "    ax = plt.subplot(111)\n",
    "    for i in range(X.shape[0]):\n",
    "        plt.text(X[i, 0], X[i, 1], str(digits.target[i]),\n",
    "                 color=plt.cm.Set1(y[i] / 10.),\n",
    "                 fontdict={'weight': 'bold', 'size': 9})\n",
    "\n",
    "    if hasattr(offsetbox, 'AnnotationBbox'):\n",
    "        # only print thumbnails with matplotlib > 1.0\n",
    "        shown_images = np.array([[1., 1.]])  # just something big\n",
    "        for i in range(digits.data.shape[0]):\n",
    "            dist = np.sum((X[i] - shown_images) ** 2, 1)\n",
    "            if np.min(dist) < 4e-3:\n",
    "                # don't show points that are too close\n",
    "                continue\n",
    "            shown_images = np.r_[shown_images, [X[i]]]\n",
    "            imagebox = offsetbox.AnnotationBbox(\n",
    "                offsetbox.OffsetImage(digits.images[i], cmap=plt.cm.gray_r),\n",
    "                X[i])\n",
    "            ax.add_artist(imagebox)\n",
    "    plt.xticks([]), plt.yticks([])\n",
    "    if title is not None:\n",
    "        plt.title(title)\n"
   ]
  },
  {
   "cell_type": "code",
   "execution_count": null,
   "metadata": {
    "collapsed": true
   },
   "outputs": [],
   "source": []
  }
 ],
 "metadata": {
  "anaconda-cloud": {},
  "kernelspec": {
   "display_name": "Python [conda root]",
   "language": "python",
   "name": "conda-root-py"
  },
  "language_info": {
   "codemirror_mode": {
    "name": "ipython",
    "version": 2
   },
   "file_extension": ".py",
   "mimetype": "text/x-python",
   "name": "python",
   "nbconvert_exporter": "python",
   "pygments_lexer": "ipython2",
   "version": "2.7.12"
  }
 },
 "nbformat": 4,
 "nbformat_minor": 1
}
